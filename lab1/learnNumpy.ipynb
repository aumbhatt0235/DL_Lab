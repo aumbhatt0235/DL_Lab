{
 "cells": [
  {
   "cell_type": "code",
   "execution_count": 5,
   "metadata": {},
   "outputs": [
    {
     "name": "stdout",
     "output_type": "stream",
     "text": [
      "<class 'numpy.ndarray'>\n",
      "2\n",
      "Dim of array : (3,)\n"
     ]
    }
   ],
   "source": [
    "import numpy as np\n",
    "\n",
    "a = np.array([1, 2, 3])\n",
    "\n",
    "print(type(a))\n",
    "print(a[1])\n",
    "print(\"Dim of array :\", a.shape) # Returns dimensions of the array.\n"
   ]
  },
  {
   "cell_type": "code",
   "execution_count": 13,
   "metadata": {},
   "outputs": [
    {
     "name": "stdout",
     "output_type": "stream",
     "text": [
      "Dims of 2D array : (2, 3)\n",
      "b[1, 2] : 6\n"
     ]
    }
   ],
   "source": [
    "# 2D Array / Rank 2 Array\n",
    "\n",
    "b = np.array( [ [1, 2, 3], [4, 5, 6] ] )\n",
    "print(\"Dims of 2D array :\", b.shape)\n",
    "print(\"b[1, 2] :\", b[1, 2])"
   ]
  }
 ],
 "metadata": {
  "interpreter": {
   "hash": "f090cb1c63a9b2305efbc50bccf5a0da1fa2b737b8a20f0401ad0f54e34ec1b7"
  },
  "kernelspec": {
   "display_name": "Python 3.9.6 64-bit (windows store)",
   "language": "python",
   "name": "python3"
  },
  "language_info": {
   "codemirror_mode": {
    "name": "ipython",
    "version": 3
   },
   "file_extension": ".py",
   "mimetype": "text/x-python",
   "name": "python",
   "nbconvert_exporter": "python",
   "pygments_lexer": "ipython3",
   "version": "3.9.10"
  },
  "orig_nbformat": 4
 },
 "nbformat": 4,
 "nbformat_minor": 2
}
